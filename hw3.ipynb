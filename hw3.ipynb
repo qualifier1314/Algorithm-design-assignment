{
 "cells": [
  {
   "cell_type": "markdown",
   "metadata": {},
   "source": [
    "# 本次作业基于大模型辅助完成"
   ]
  },
  {
   "cell_type": "markdown",
   "metadata": {},
   "source": [
    "## algorithm design and anlysis-2025 spring  homework 3\n",
    "**Deadline**：2025.5.14\n",
    "\n",
    "**name**:\n",
    "\n",
    "\n",
    "note：\n",
    "---\n",
    "1. 带有\\*的题目，申请免上课的同学，必须完成，其他同学选作；\n",
    "2. 请独立完成，如求助了他人或者大模型，请著明，并且不可省略算法分析部分；\n",
    "4. 如若作答有雷同，全部取消成绩；\n",
    "3. 需要书面作答的题目，可以通过引用图片的形式添加，但是注意上传项目时包含所引用的图片的源文件；\n",
    "4. $log_n$ 默认表示$log_2{n}$;"
   ]
  },
  {
   "cell_type": "markdown",
   "metadata": {},
   "source": [
    "## 问题 1  \n",
    "\n",
    "请证明基于比较的排序算法计算复杂度下界为$\\Omega(nlogn)$"
   ]
  },
  {
   "cell_type": "markdown",
   "metadata": {},
   "source": [
    "you can refer a handwritten picture, pleas upload the picture in /fig/xxx.png\n",
    "answer："
   ]
  },
  {
   "cell_type": "markdown",
   "metadata": {},
   "source": [
    "<div style=\"text-align:center;width:400px;\"> <img alt=\"\" src=\"./fig/week3_q1.jpg\"> </div>"
   ]
  },
  {
   "cell_type": "markdown",
   "metadata": {},
   "source": [
    "## 问题 2 \n",
    "\n",
    "构建二叉搜索树\n",
    "\n",
    "> 1. 给定一个数组 [48, 33, 49, 47, 42, 46, 32], 构建一个二叉搜索树存储这些数据，请**绘制**所构建的**二叉搜索树**（标明结点的值）。\n",
    "> 2. 从第1问的二叉搜索树中删除33，请**绘制**删除33后的**二叉搜索树**（标明结点的值）\n",
    "\n",
    "- 推荐使用graphviz包绘制树的结构"
   ]
  },
  {
   "cell_type": "markdown",
   "metadata": {},
   "source": [
    "you can refer a handwritten picture, pleas upload the picture in /fig/xxx.png\n",
    "answer："
   ]
  },
  {
   "cell_type": "markdown",
   "metadata": {},
   "source": [
    "<div style=\"text-align:center;width:400px;\"> <img alt=\"\" src=\"./fig/week3_q2.jpg\"> </div>"
   ]
  },
  {
   "cell_type": "markdown",
   "metadata": {},
   "source": [
    "## 问题 3 \n",
    "\n",
    "> 下面是九门课程的开始和结束时间:\n",
    ">\n",
    "> [(9:00,12:30), (11:00,14:00), (13:00, 14:30), (9:00,10:30),(13:00, 14:30),(14:00,16:30), (15:00,16:30), (15:00,16:30), (9:00,10:30)]\n",
    ">\n",
    "> 请使用贪婪算法为这九门课分配教室，要求在同一天内安排这些课，并且每个教室同一时间只能安排一门课。\n",
    "\n",
    "**请问最少需要几间教室，罗列出每个教室安排的课程**"
   ]
  },
  {
   "cell_type": "markdown",
   "metadata": {},
   "source": [
    "idea：\n",
    "将课程按开始时间排序； \n",
    "使用一个最小堆维护每个教室的下一个可用时间； \n",
    "遍历每门课程，尝试安排进最早空闲的教室，如果没有教室可用，则新增一个教室。 "
   ]
  },
  {
   "cell_type": "code",
   "execution_count": 13,
   "metadata": {
    "vscode": {
     "languageId": "plaintext"
    }
   },
   "outputs": [
    {
     "name": "stdout",
     "output_type": "stream",
     "text": [
      "至少需要 3 间教室\n",
      "教室 1:\n",
      "  课程 4: 09:00-10:30\n",
      "  课程 2: 11:00-14:00\n",
      "  课程 6: 14:00-16:30\n",
      "教室 2:\n",
      "  课程 9: 09:00-10:30\n",
      "  课程 3: 13:00-14:30\n",
      "  课程 7: 15:00-16:30\n",
      "教室 3:\n",
      "  课程 1: 09:00-12:30\n",
      "  课程 5: 13:00-14:30\n",
      "  课程 8: 15:00-16:30\n"
     ]
    }
   ],
   "source": [
    "# code：（辅助完成）\n",
    "import heapq\n",
    "from typing import List, Tuple, Dict\n",
    "\n",
    "def assign_classrooms(courses):\n",
    "    # 将时间字符串转换为分钟\n",
    "    def time_to_minutes(time_str):\n",
    "        hours, minutes = map(int, time_str.split(\":\"))\n",
    "        return hours * 60 + minutes\n",
    "    \n",
    "    # 将分钟转换回时间字符串\n",
    "    def minutes_to_time(minutes):\n",
    "        hours = minutes // 60\n",
    "        mins = minutes % 60\n",
    "        return f\"{hours:02d}:{mins:02d}\"\n",
    "    \n",
    "\n",
    "    intervals = [(time_to_minutes(start), time_to_minutes(end)) for start, end in courses]\n",
    "    sorted_intervals = sorted(enumerate(intervals), key=lambda x: (x[1][0], x[1][1]))\n",
    "    \n",
    "    \n",
    "    heap = []  \n",
    "    room_count = 0\n",
    "    room_schedules = {}\n",
    "    \n",
    "    for course_id, (start, end) in sorted_intervals:\n",
    "        \n",
    "        while heap and heap[0][0] <= start:\n",
    "            \n",
    "            finish_time, room_id = heapq.heappop(heap)\n",
    "            room_schedules[room_id].append((course_id + 1, minutes_to_time(start), minutes_to_time(end)))\n",
    "            heapq.heappush(heap, (end, room_id))\n",
    "            break\n",
    "        else:\n",
    "            \n",
    "            room_id = room_count\n",
    "            room_count += 1\n",
    "            room_schedules[room_id] = [(course_id + 1, minutes_to_time(start), minutes_to_time(end))]\n",
    "            heapq.heappush(heap, (end, room_id))\n",
    "    \n",
    "    return room_count, room_schedules\n",
    "\n",
    "\n",
    "courses = [\n",
    "    (\"9:00\", \"12:30\"), (\"11:00\", \"14:00\"), (\"13:00\", \"14:30\"),\n",
    "    (\"9:00\", \"10:30\"), (\"13:00\", \"14:30\"), (\"14:00\", \"16:30\"),\n",
    "    (\"15:00\", \"16:30\"), (\"15:00\", \"16:30\"), (\"9:00\", \"10:30\")\n",
    "]\n",
    "\n",
    "num_rooms, schedule = assign_classrooms(courses)\n",
    "\n",
    "print(f\"至少需要 {num_rooms} 间教室\")\n",
    "for room_id, course_list in sorted(schedule.items()):\n",
    "    print(f\"教室 {room_id + 1}:\")\n",
    "    for course_id, start, end in course_list:\n",
    "        print(f\"  课程 {course_id}: {start}-{end}\")\n"
   ]
  },
  {
   "cell_type": "markdown",
   "metadata": {},
   "source": [
    "## 问题 4 \n",
    "\n",
    "> 爬楼梯问题：假设爬楼梯时你每次只能爬一阶或者爬两阶，问爬上n阶的楼梯，你一共有多少种方法\n",
    "\n",
    "请设计算法完成该问题，分析算法设计思路，计算时间复杂度，并基于python编程实现"
   ]
  },
  {
   "cell_type": "markdown",
   "metadata": {},
   "source": [
    "idea：\n",
    "动态规划，用两个变量（或数组）从底层逐步计算上来；"
   ]
  },
  {
   "cell_type": "code",
   "execution_count": 16,
   "metadata": {},
   "outputs": [
    {
     "name": "stdout",
     "output_type": "stream",
     "text": [
      "爬上5阶台阶的方法： 8\n",
      "时间复杂度：O(n)\n"
     ]
    }
   ],
   "source": [
    "# add your code here\n",
    "def climb(n):\n",
    "    if n <= 1:\n",
    "        return 1\n",
    "    dp = [0] * (n + 1)\n",
    "    dp[0], dp[1] = 1, 1\n",
    "    for i in range(2, n + 1):\n",
    "        dp[i] = dp[i - 1] + dp[i - 2]\n",
    "    return dp[n]\n",
    "\n",
    "n=5\n",
    "res = climb(n)\n",
    "print(f\"爬上{n}阶台阶的方法：\",res)\n",
    "# your algorithm time complexity is: \n",
    "print(\"时间复杂度：O(n)\")"
   ]
  },
  {
   "cell_type": "markdown",
   "metadata": {},
   "source": [
    "## 问题 5 \n",
    "\n",
    "> 0-1背包问题：现在有4块大理石，每个大理石对应的重量和价值使用一个元组表示, 即（重量，价值），4块大理石的重量和价值为：[(5,10), (4,40), (6,30), (3, 50)], 假设你有一辆最大承重为9的小推车，请问使用这个小推车装大理石的最大价值为多少\n",
    "\n",
    "请设计一个算法解决该问题，分析算法设计思路，计算时间复杂度，并基于python编程实现"
   ]
  },
  {
   "cell_type": "markdown",
   "metadata": {},
   "source": [
    "idea：  \n",
    "dp[w] 为 背包容量为 w 时的最大价值  \n",
    "dp[0] = 0，其余初始化为0  \n",
    "逆序遍历容量 w，以避免重复使用同一物品  "
   ]
  },
  {
   "cell_type": "code",
   "execution_count": 18,
   "metadata": {},
   "outputs": [
    {
     "name": "stdout",
     "output_type": "stream",
     "text": [
      "最大可获得价值为: 90\n",
      "时间复杂度：O(n * W)\n"
     ]
    }
   ],
   "source": [
    "# add your code here\n",
    "def max_values(weights_values, capacity):\n",
    "    n = len(weights_values)\n",
    "    dp = [0] * (capacity + 1)\n",
    "\n",
    "    for weight, value in weights_values:\n",
    "        for w in range(capacity, weight - 1, -1):\n",
    "            dp[w] = max(dp[w], dp[w - weight] + value)\n",
    "    return dp[capacity]\n",
    "\n",
    "items = [(5, 10), (4, 40), (6, 30), (3, 50)]\n",
    "capacity = 9\n",
    "max_value = max_values(items, capacity)\n",
    "print(f\"最大可获得价值为: {max_value}\")\n",
    "# your algorithm time complexity is:\n",
    "# O(n * W)，其中 n=4 是物品数，W=9 是背包容量\n",
    "print(\"时间复杂度：O(n * W)\")"
   ]
  },
  {
   "cell_type": "markdown",
   "metadata": {},
   "source": [
    "## 问题 6 \n",
    "给定 `n` 个非负整数表示每个宽度为 `1` 的柱子的高度图，计算按此排列的柱子，下雨之后能接多少雨水。\n",
    "\n",
    "\n",
    "\n",
    "<div style=\"text-align:center;width:800px;\"> <img alt=\"\" src=\"./fig/hw3q6.png\"> </div>\n",
    "\n",
    "请分析算法设计思路，计算时间复杂度，并基于python编程实现"
   ]
  },
  {
   "cell_type": "markdown",
   "metadata": {},
   "source": [
    "idea：\n",
    "采用双指针算法解决接雨水问题。其核心思路是通过两个指针 left 和 right 从数组两端向中间移动，维护左侧最大高度 left_max 和右侧最大高度 right_max，以确定每个位置的接水量。每次比较 height[left] 和 height[right]，处理较矮的一侧：若左侧较低，移动左指针，更新 left_max，并计算当前位置的接水量（left_max - height[left]）；若右侧较低，移动右指针，更新 right_max，并计算接水量（right_max - height[right]）。"
   ]
  },
  {
   "cell_type": "code",
   "execution_count": 19,
   "metadata": {},
   "outputs": [
    {
     "name": "stdout",
     "output_type": "stream",
     "text": [
      "总共能接雨水: 6\n",
      "时间复杂度：O(n)\n"
     ]
    }
   ],
   "source": [
    "# add your code here（辅助完成）\n",
    "def trap_rain_water(height):\n",
    "    if not height or len(height) < 3:\n",
    "        return 0\n",
    "\n",
    "    left, right = 0, len(height) - 1\n",
    "    left_max, right_max = height[left], height[right]\n",
    "    total_water = 0\n",
    "\n",
    "    while left < right:\n",
    "        if height[left] < height[right]:\n",
    "            left += 1\n",
    "            left_max = max(left_max, height[left])\n",
    "            total_water += max(0, left_max - height[left])\n",
    "        else:\n",
    "            right -= 1\n",
    "            right_max = max(right_max, height[right])\n",
    "            total_water += max(0, right_max - height[right])\n",
    "\n",
    "    return total_water\n",
    "height = [0,1,0,2,1,0,1,3,2,1,2,1]\n",
    "print(f\"总共能接雨水: {trap_rain_water(height)}\")\n",
    "# your algorithm time complexity is:\n",
    "print(\"时间复杂度：O(n)\")"
   ]
  },
  {
   "cell_type": "markdown",
   "metadata": {},
   "source": [
    "## 问题 7 \n",
    "\n",
    "**股票投资组合优化**： 假设你是一位投资者，想要在不同的股票中分配你的资金，以最大化你的投资回报。每只股票都有不同的预期收益率和风险。你的目标是选择一些股票，使得总投资金额不超过你的预算，并且预期收益最大化。\n",
    "\n",
    "在这个情况下，你可以将每只股票视为一个“物品”，其重量为投资金额，价值为预期收益率。然后，你可以使用分级背包问题的方法来选择部分股票，以便在预算内获得最大的预期收益。\n",
    "\n",
    "以下是一个简化的例子：\n",
    "\n",
    "假设你有以下三只股票可供选择：\n",
    "\n",
    "1. 股票 A：投资金额 5000 美元，预期收益率 10%\n",
    "2. 股票 B：投资金额 3000 美元，预期收益率 8%\n",
    "3. 股票 C：投资金额 2000 美元，预期收益率 12%\n",
    "\n",
    "请设计算法找到最优投资方案，分析算法设计思路，计算时间复杂度，并基于python编程实现"
   ]
  },
  {
   "cell_type": "markdown",
   "metadata": {},
   "source": [
    "idea：   \n",
    "核心思想：    \n",
    "计算每只股票的单位收益率    \n",
    "按单位收益率排序，优先投资收益率高的  \n",
    "在预算内逐个选取，可以部分投资一只股票  \n",
    "步骤：  \n",
    "对股票按单位收益率 value / weight 降序排列  \n",
    "遍历股票：  \n",
    "若能全投入该股票，则投满  \n",
    "否则投剩余预算，收益按比例计算  \n",
    "\n"
   ]
  },
  {
   "cell_type": "code",
   "execution_count": 21,
   "metadata": {},
   "outputs": [
    {
     "name": "stdout",
     "output_type": "stream",
     "text": [
      "最大预期收益: $980.00\n",
      "投资方案:\n",
      "  投资 $2000.00（占比 100.0%），收益率 12.0%\n",
      "  投资 $5000.00（占比 100.0%），收益率 10.0%\n",
      "  投资 $3000.00（占比 100.0%），收益率 8.0%\n",
      "时间复杂度：O(n log n)\n"
     ]
    }
   ],
   "source": [
    "# add your code here\n",
    "def optimize_portfolio(stocks, budget):\n",
    "    stock_data = [(w, w * r, r) for (w, r) in stocks]\n",
    "    stock_data.sort(key=lambda x: x[2], reverse=True)\n",
    "    total_return = 0\n",
    "    invest_plan = []\n",
    "\n",
    "    for invest, value, rate in stock_data:\n",
    "        if budget == 0:\n",
    "            break\n",
    "        if invest <= budget:\n",
    "            total_return += value\n",
    "            budget -= invest\n",
    "            invest_plan.append((invest, rate, 1.0))\n",
    "        else:\n",
    "            fraction = budget / invest\n",
    "            total_return += value * fraction\n",
    "            invest.append((budget, rate, fraction))\n",
    "            budget = 0\n",
    "\n",
    "    return total_return, invest_plan\n",
    "\n",
    "stocks = [\n",
    "    (5000, 0.10),  \n",
    "    (3000, 0.08),  \n",
    "    (2000, 0.12)   \n",
    "]\n",
    "budget = 10000\n",
    "max_return, plan = optimize_portfolio(stocks, budget)\n",
    "print(f\"最大预期收益: ${max_return:.2f}\")\n",
    "print(\"投资方案:\")\n",
    "for amount, rate, frac in plan:\n",
    "    print(f\"  投资 ${amount:.2f}（占比 {frac*100:.1f}%），收益率 {rate*100:.1f}%\")\n",
    "# your algorithm time complexity is:\n",
    "print(\"时间复杂度：O(n log n)\")"
   ]
  },
  {
   "cell_type": "markdown",
   "metadata": {},
   "source": [
    "## 问题 8\n",
    "\n",
    "给你二叉搜索树的根节点 root ，该树中的恰好两个节点的值被错误地交换。请在不改变其结构的情况下，恢复这棵树 。设计算法解决该问题，分析算法设计思路，计算时间复杂度，并基于python编程实现\n",
    "\n",
    "e.g.:\n",
    "---\n",
    "1.\n",
    "\n",
    "<div style=\"text-align:center;width:200px;\"> <img alt=\"\" src=\"./fig/hw3q9-1.jpg\"> </div>\n",
    "输入：root = [1,3,null,null,2]， 输出为：[3,1,null,null,2]， \n",
    "\n",
    "解释：3 不能是 1 的左孩子，因为 3 > 1 。交换 1 和 3 使二叉搜索树有效。\n",
    "\n",
    "2.\n",
    "\n",
    " <div style=\"text-align:center;width:200px;\"> <img alt=\"\" src=\"./fig/hw3q9-1.jpg\"> </div>\n",
    "输入： root=[3,1,4,null,null,2]， 输出为：[2,1,4,null,null,3]\n",
    "\n",
    "解释：2 不能在 3 的右子树中，因为 2 < 3 。交换 2 和 3 使二叉搜索树有效。"
   ]
  },
  {
   "cell_type": "markdown",
   "metadata": {},
   "source": [
    "idea：    \n",
    "对整棵树做中序遍历，并记录访问顺序中值不再升序的节点。  \n",
    "理论上会有两种情况：   \n",
    "相邻两个节点被交换：只会出现 一次逆序对  \n",
    "不相邻两个节点被交换：会出现 两次逆序对  \n",
    "我们记录第一个错误节点 first 和第二个错误节点 second：  \n",
    "第一次遇到 prev.val > cur.val，记录 first = prev   \n",
    "每次遇到 prev.val > cur.val，都更新 second = cur  \n",
    "交换 first.val 和 second.val 即可修复 BST。  "
   ]
  },
  {
   "cell_type": "code",
   "execution_count": 25,
   "metadata": {},
   "outputs": [
    {
     "name": "stdout",
     "output_type": "stream",
     "text": [
      "[2, 1, 4, None, None, 3]\n",
      "时间复杂度：O(n)\n"
     ]
    }
   ],
   "source": [
    "# add your code here（辅助完成）\n",
    "class TreeNode:\n",
    "    def __init__(self, val, left=None, right=None):\n",
    "        self.val = val\n",
    "        self.left = left\n",
    "        self.right = right\n",
    "\n",
    "class Solution:\n",
    "    def buildTree(self, nodes):\n",
    "        if not nodes or nodes[0] is None:\n",
    "            return None\n",
    "        root = TreeNode(nodes[0])\n",
    "        queue = [root]\n",
    "        i = 1\n",
    "        while queue and i < len(nodes):\n",
    "            node = queue.pop(0)\n",
    "            if i < len(nodes) and nodes[i] is not None:\n",
    "                node.left = TreeNode(nodes[i])\n",
    "                queue.append(node.left)\n",
    "            i += 1\n",
    "            if i < len(nodes) and nodes[i] is not None:\n",
    "                node.right = TreeNode(nodes[i])\n",
    "                queue.append(node.right)\n",
    "            i += 1\n",
    "        return root\n",
    "\n",
    "    def recoverTree(self, root):\n",
    "        self.first = self.second = self.prev = None\n",
    "        def inorder(node):\n",
    "            if not node:\n",
    "                return\n",
    "            inorder(node.left)\n",
    "            if self.prev and self.prev.val > node.val:\n",
    "                if not self.first:\n",
    "                    self.first = self.prev\n",
    "                self.second = node\n",
    "            self.prev = node\n",
    "            inorder(node.right)\n",
    "        inorder(root)\n",
    "        if self.first and self.second:\n",
    "            self.first.val, self.second.val = self.second.val, self.first.val\n",
    "\n",
    "    def levelOrder(self, root):\n",
    "        if not root:\n",
    "            return []\n",
    "        queue = [root]\n",
    "        result = []\n",
    "        while queue:\n",
    "            node = queue.pop(0)\n",
    "            if node:\n",
    "                result.append(node.val)\n",
    "                queue.append(node.left)\n",
    "                queue.append(node.right)\n",
    "            else:\n",
    "                result.append(None)\n",
    "        while result and result[-1] is None:\n",
    "            result.pop()\n",
    "        return result\n",
    "\n",
    "\n",
    "input_nodes = [3, 1, 4, None, None, 2]\n",
    "\n",
    "solution = Solution()\n",
    "root = solution.buildTree(input_nodes)\n",
    "solution.recoverTree(root)\n",
    "print(solution.levelOrder(root))\n",
    "\n",
    "\n",
    "# your algorithm time complexity is:\n",
    "print(\"时间复杂度：O(n)\")"
   ]
  },
  {
   "cell_type": "markdown",
   "metadata": {},
   "source": [
    "## 问题 9  \n",
    "\n",
    "给你一个二叉树的根节点 root ，树中每个节点都存放有一个 0 到 9 之间的数字。每条从根节点到叶节点的路径都代表一个数字：\n",
    "\n",
    "> 例如，从根节点到叶节点的路径 1 -> 2 -> 3 表示数字 123 。\n",
    "\n",
    "设计一个算法计算从根节点到叶节点生成的所有数字之和 ，分析算法设计思路，计算时间复杂度，并基于python编程实现\n",
    "\n",
    "叶节点:是指没有子节点的节点。\n",
    "\n",
    "e.g.:\n",
    "---\n",
    "1.\n",
    "\n",
    " <div style=\"text-align:center;width:200px;\"> <img alt=\"figure\" src=\"./fig/hw3q10-1.jpg\"> </div>\n",
    "\n",
    " 输入：root = [1,2,3], 输出：25\n",
    "\n",
    "解释：从根到叶子节点路径 1->2 代表数字 12，1->3 代表数字 13，因此和为 12 + 13 = 25 。\n",
    "\n",
    "2.\n",
    "\n",
    " <div style=\"text-align:center;width:200px;\"> <img alt=\"figure\" src=\"./fig/hw3q10-2.jpg\"> </div>\n",
    "\n",
    " 输入：root = [4,9,0,5,1], 输出：1026\n",
    "\n",
    "解释：从根到叶子节点路径 4->9->5 代表数字 495，4->9->1 代表数字 491，4->0 代表数字 40。因此和为 495 + 491 + 40 = 1026 。"
   ]
  },
  {
   "cell_type": "markdown",
   "metadata": {},
   "source": [
    "idea：   \n",
    "使用深度优先搜索（DFS）遍历二叉树，从根节点出发，递归地遍历到每个叶子节点。   \n",
    "在每个节点处，拼接当前路径上的数字。当到达叶子节点时，将路径的数字加入总和。     \n",
    "对于路径拼接：通过递归传递当前路径数字。每到一个节点，就将其值拼接到当前数字上   \n",
    "（比如，当前路径为 num，来到下一个节点，更新 num = num * 10 + node.val）。\n",
    "  "
   ]
  },
  {
   "cell_type": "code",
   "execution_count": 27,
   "metadata": {},
   "outputs": [
    {
     "name": "stdout",
     "output_type": "stream",
     "text": [
      "数字之和为： 1026\n",
      "时间复杂度：O(n)\n"
     ]
    }
   ],
   "source": [
    "# add your code here\n",
    "class TreeNode:\n",
    "    def __init__(self, val, left=None, right=None):\n",
    "        self.val = val\n",
    "        self.left = left\n",
    "        self.right = right\n",
    "\n",
    "class Solution:\n",
    "    def buildTree(self, nodes):\n",
    "        if not nodes or nodes[0] is None:\n",
    "            return None\n",
    "        \n",
    "        root = TreeNode(nodes[0])\n",
    "        queue = [root]\n",
    "        i = 1\n",
    "        while queue and i < len(nodes):\n",
    "            node = queue.pop(0)\n",
    "            if i < len(nodes) and nodes[i] is not None:\n",
    "                node.left = TreeNode(nodes[i])\n",
    "                queue.append(node.left)\n",
    "            i += 1\n",
    "            # Right child\n",
    "            if i < len(nodes) and nodes[i] is not None:\n",
    "                node.right = TreeNode(nodes[i])\n",
    "                queue.append(node.right)\n",
    "            i += 1\n",
    "        return root\n",
    "\n",
    "    def sumNumbers(self, root):\n",
    "        def dfs(node, current_sum):\n",
    "            if not node:\n",
    "                return 0\n",
    "            current_sum = current_sum * 10 + node.val\n",
    "            if not node.left and not node.right:\n",
    "                return current_sum\n",
    "            return dfs(node.left, current_sum) + dfs(node.right, current_sum)\n",
    "        return dfs(root, 0)\n",
    "\n",
    "\n",
    "input_nodes = [4, 9, 0, 5, 1]\n",
    "solution = Solution()\n",
    "root = solution.buildTree(input_nodes)\n",
    "print(\"数字之和为：\",solution.sumNumbers(root))\n",
    "\n",
    "\n",
    "# your algorithm time complexity is:\n",
    "print(\"时间复杂度：O(n)\")"
   ]
  },
  {
   "cell_type": "markdown",
   "metadata": {},
   "source": [
    "## 问题 10  \n",
    "\n",
    "给你一个二叉树的根节点 root ， 检查它是否轴对称。\n",
    "\n",
    "1. 分析算法设计思路，计算时间复杂度，并基于python编程实现\n",
    "2. \\* 设计使用递归和迭代两种方法解决这个问题，计算时间复杂度，并基于python编程实现\n",
    "\n",
    "e.g.:\n",
    "---\n",
    "1.\n",
    "\n",
    " <div style=\"text-align:center;width:200px;\"> <img alt=\"figure\" src=\"./fig/hw3q11-1.png\"> </div>\n",
    "\n",
    " 输入：root = [1,2,2,3,4,4,3]， 输出：true\n",
    "\n",
    "解释：二叉树 [1,2,2,3,4,4,3] 对称。\n",
    "\n",
    "2.\n",
    "\n",
    " <div style=\"text-align:center;width:200px;\"> <img alt=\"figure\" src=\"./fig/hw3q11-2.png\"> </div>\n",
    "\n",
    " 输入：root = [1,2,2,null,3,null,3]， 输出：false"
   ]
  },
  {
   "cell_type": "markdown",
   "metadata": {},
   "source": [
    "idea：\n",
    "通过递归的方式来判断树的对称性。   \n",
    "递归函数需要比较两个子树是否镜像对称。    \n",
    "对于任意两个子树：   \n",
    "    它们的根节点值应该相同。     \n",
    "    它们的左子树与右子树需要递归地进行对称比较（即左子树的左子树与右子树的右子树对比，左子树的右子树与右子树的左子树对比）。"
   ]
  },
  {
   "cell_type": "code",
   "execution_count": 31,
   "metadata": {},
   "outputs": [
    {
     "name": "stdout",
     "output_type": "stream",
     "text": [
      "True\n",
      "False\n",
      "时间复杂度：O(n)\n"
     ]
    }
   ],
   "source": [
    "# add your code here（辅助完成）\n",
    "class TreeNode:\n",
    "    def __init__(self, val, left=None, right=None):\n",
    "        self.val = val\n",
    "        self.left = left\n",
    "        self.right = right\n",
    "\n",
    "class Solution:\n",
    "    def buildTree(self, nodes):\n",
    "        if not nodes or nodes[0] is None:\n",
    "            return None\n",
    "        \n",
    "        root = TreeNode(nodes[0])\n",
    "        queue = [root]\n",
    "        i = 1\n",
    "        while queue and i < len(nodes):\n",
    "            node = queue.pop(0)\n",
    "            if i < len(nodes) and nodes[i] is not None:\n",
    "                node.left = TreeNode(nodes[i])\n",
    "                queue.append(node.left)\n",
    "            i += 1\n",
    "            if i < len(nodes) and nodes[i] is not None:\n",
    "                node.right = TreeNode(nodes[i])\n",
    "                queue.append(node.right)\n",
    "            i += 1\n",
    "        return root\n",
    "\n",
    "    def isSymmetric(self, root):\n",
    "        def isMirror(t1, t2):\n",
    "            if not t1 and not t2:\n",
    "                return True\n",
    "            if not t1 or not t2:\n",
    "                return False\n",
    "            return (t1.val == t2.val) and isMirror(t1.left, t2.right) and isMirror(t1.right, t2.left)\n",
    "        if not root:\n",
    "            return True\n",
    "        return isMirror(root.left, root.right)\n",
    "\n",
    "\n",
    "nodes = [1, 2, 2, 3, 4, 4, 3]\n",
    "solution = Solution()\n",
    "root = solution.buildTree(nodes)\n",
    "print(solution.isSymmetric(root))\n",
    "\n",
    "nodes = [1,2,2,None,3,None,3]\n",
    "solution = Solution()\n",
    "root = solution.buildTree(nodes)\n",
    "print(solution.isSymmetric(root))\n",
    "\n",
    "\n",
    "# your algorithm time complexity is:\n",
    "print(\"时间复杂度：O(n)\")"
   ]
  },
  {
   "cell_type": "markdown",
   "metadata": {},
   "source": [
    "## 问题 11  \n",
    "\n",
    "给你一个由 '1'（陆地）和 '0'（水）组成的的二维网格，请你计算网格中岛屿的数量。岛屿总是被水包围，并且每座岛屿只能由水平方向和/或竖直方向上相邻的陆地连接形成。\n",
    "\n",
    "此外，你可以假设该网格的四条边均被水包围。\n",
    "\n",
    "分析算法设计思路，计算时间复杂度，并基于python编程实现\n",
    "\n",
    "e.g.:\n",
    "---\n",
    "1.\n",
    "输入：grid = [\n",
    "\n",
    "    [\"1\",\"1\",\"1\",\"1\",\"0\"],\n",
    "\n",
    "    [\"1\",\"1\",\"0\",\"1\",\"0\"], \n",
    "\n",
    "    [\"1\",\"1\",\"0\",\"0\",\"0\"], \n",
    "\n",
    "    [\"0\",\"0\",\"0\",\"0\",\"0\"]  \n",
    "\n",
    "]\n",
    "\n",
    "输出：1\n",
    "\n",
    "2.\n",
    "输入：grid = [\n",
    "\n",
    "    [\"1\",\"1\",\"0\",\"0\",\"0\"],\n",
    "\n",
    "    [\"1\",\"1\",\"0\",\"0\",\"0\"],\n",
    "\n",
    "    [\"0\",\"0\",\"1\",\"0\",\"0\"],\n",
    "\n",
    "    [\"0\",\"0\",\"0\",\"1\",\"1\"]\n",
    "\n",
    "]\n",
    "\n",
    "输出：3"
   ]
  },
  {
   "cell_type": "markdown",
   "metadata": {},
   "source": [
    "idea:\n",
    "使用 DFS 来遍历每个岛屿。     \n",
    "每次遇到一个 '1'，意味着找到了一个新的岛屿，我们将从这个位置开始 DFS，遍历这个岛屿上的所有陆地。    \n",
    "通过 DFS 将该岛屿上的所有 '1' 标记为已访问（修改为 '0' ），避免重复计数。   \n",
    "对整个网格进行遍历，每次遇到一个未访问的 '1'，就意味着找到一个新的岛屿。     \n",
    "遍历网格：    \n",
    "从每个位置开始，若当前值为 '1' 且未访问过，则执行 DFS，标记该岛屿为已访问。    \n",
    "每次完成一次 DFS 时，岛屿的数量增加 1。    "
   ]
  },
  {
   "cell_type": "code",
   "execution_count": 34,
   "metadata": {},
   "outputs": [
    {
     "name": "stdout",
     "output_type": "stream",
     "text": [
      "示例1： 1\n",
      "示例2： 3\n",
      "时间复杂度：O(m * n)\n"
     ]
    }
   ],
   "source": [
    "# add your code here\n",
    "class Solution:\n",
    "    def Islands(self, grid):\n",
    "        if not grid:\n",
    "            return 0\n",
    "        def dfs(grid, i, j):\n",
    "            if i < 0 or i >= len(grid) or j < 0 or j >= len(grid[0]) or grid[i][j] == '0':\n",
    "                return\n",
    "            grid[i][j] = '0'\n",
    "            dfs(grid, i+1, j)  # 下\n",
    "            dfs(grid, i-1, j)  # 上\n",
    "            dfs(grid, i, j+1)  # 右\n",
    "            dfs(grid, i, j-1)  # 左\n",
    "        num = 0\n",
    "        \n",
    "        for i in range(len(grid)):\n",
    "            for j in range(len(grid[0])):\n",
    "                if grid[i][j] == '1':  \n",
    "                    num += 1\n",
    "                    dfs(grid, i, j)  \n",
    "        return num\n",
    "\n",
    "grid1 = [\n",
    "    [\"1\",\"1\",\"1\",\"1\",\"0\"],\n",
    "    [\"1\",\"1\",\"0\",\"1\",\"0\"], \n",
    "    [\"1\",\"1\",\"0\",\"0\",\"0\"], \n",
    "    [\"0\",\"0\",\"0\",\"0\",\"0\"]\n",
    "]\n",
    "\n",
    "grid2 = [\n",
    "    [\"1\",\"1\",\"0\",\"0\",\"0\"],\n",
    "    [\"1\",\"1\",\"0\",\"0\",\"0\"],\n",
    "    [\"0\",\"0\",\"1\",\"0\",\"0\"],\n",
    "    [\"0\",\"0\",\"0\",\"1\",\"1\"]\n",
    "]\n",
    "\n",
    "solution = Solution()\n",
    "print(\"示例1：\",solution.Islands(grid1))  \n",
    "print(\"示例2：\",solution.Islands(grid2))  \n",
    "\n",
    "# your algorithm time complexity is:\n",
    "print(\"时间复杂度：O(m * n)\")\n"
   ]
  }
 ],
 "metadata": {
  "kernelspec": {
   "display_name": "Python 3",
   "language": "python",
   "name": "python3"
  },
  "language_info": {
   "codemirror_mode": {
    "name": "ipython",
    "version": 3
   },
   "file_extension": ".py",
   "mimetype": "text/x-python",
   "name": "python",
   "nbconvert_exporter": "python",
   "pygments_lexer": "ipython3",
   "version": "3.8.3"
  }
 },
 "nbformat": 4,
 "nbformat_minor": 2
}
