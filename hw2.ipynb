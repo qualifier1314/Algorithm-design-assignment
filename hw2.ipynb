{
 "cells": [
  {
   "cell_type": "markdown",
   "metadata": {},
   "source": [
    "# 本次作业基于大模型辅助完成"
   ]
  },
  {
   "cell_type": "markdown",
   "metadata": {},
   "source": [
    "## algorithm design and anlysis-2025 spring  homework 2\n",
    "**Deadline**：2025.5.14\n",
    "\n",
    "**name**:\n",
    "\n",
    "\n",
    "note：\n",
    "---\n",
    "1. 带有\\*的题目，申请免上课的同学，必须完成，其他同学选作；\n",
    "2. 请独立完成，如求助了他人或者大模型，请著明，并且不可省略算法分析部分；\n",
    "4. 如若作答有雷同，全部取消成绩；\n",
    "3. 需要书面作答的题目，可以通过引用图片的形式添加，但是注意上传项目时包含所引用的图片的源文件；\n",
    "4. $log_n$ 默认表示$log_2{n}$;"
   ]
  },
  {
   "cell_type": "markdown",
   "metadata": {},
   "source": [
    "## 问题 1  \n",
    "\n",
    "> 给定一个已排序的链表的头 `head` ， *删除所有重复的元素，使每个元素只出现一次* 。返回 *已排序的链表* 。链表的类如下所示：\n",
    "\n",
    "```python\n",
    "class NodeList:\n",
    "    def __init__(self, val=None, right=None):\n",
    "        self.val   = val\n",
    "        self.right = right\n",
    "```\n",
    "\n",
    "输入是一个数组，你首先需要将数组转化为链表，然后删除链表中的重复元素，再遍历链表元素，以一个数组的形式返回。请设计一个算法解决上述任务，分析算法设计思路，计算时间复杂度, 并基于python编程实现。\n",
    "\n",
    "e.g.  输入：head=[1, 1, 2, 3, 3]   输出：[1, 2, 3]\n",
    "\n",
    "![image-20240502110020439](./fig/hw2q1.png)\n",
    "\n"
   ]
  },
  {
   "cell_type": "markdown",
   "metadata": {},
   "source": [
    "idea：\n",
    "1、链表的定义和转化： 我们首先需要一个方法将输入的数组转化为链表。链表节点是由 NodeList 类构成的，每个节点包含一个值 val 和指向下一个节点的指针 right。\n",
    "2、去重操作： 给定的链表已经是排序的，因此我们可以通过一次遍历去除重复的元素。遍历时，我们需要检查当前节点的值是否与下一个节点的值相同。如果相同，就跳过下一个节点，否则将当前节点指向下一个节点。最终所有相同的元素都会被去除。\n",
    "3、链表转回数组： 遍历去重后的链表，将每个节点的值存入数组并返回。"
   ]
  },
  {
   "cell_type": "code",
   "execution_count": 4,
   "metadata": {},
   "outputs": [
    {
     "name": "stdout",
     "output_type": "stream",
     "text": [
      "[1, 2, 3]\n",
      "时间复杂度：O(n)\n"
     ]
    }
   ],
   "source": [
    "# add your idea here\n",
    "class NodeList:\n",
    "    def __init__(self, val=None, next=None):\n",
    "        self.val = val\n",
    "        self.next = next\n",
    "\n",
    "def tolist(arr):     \n",
    "    if not arr:\n",
    "        return None\n",
    "    head = NodeList(arr[0])\n",
    "    current = head\n",
    "    for val in arr[1:]:\n",
    "        current.next = NodeList(val)\n",
    "        current = current.next\n",
    "    return head\n",
    "\n",
    "def delete(head):\n",
    "    current = head\n",
    "    while current and current.next:\n",
    "        if current.val == current.next.val:\n",
    "            current.next = current.next.next\n",
    "        else:\n",
    "            current = current.next\n",
    "    return head\n",
    "\n",
    "def toarray(head):\n",
    "    result = []\n",
    "    current = head\n",
    "    while current:\n",
    "        result.append(current.val)\n",
    "        current = current.next\n",
    "    return result\n",
    "\n",
    "\n",
    "def removes(arr):\n",
    "    head = tolist(arr)  \n",
    "    head = delete(head)  \n",
    "    return toarray(head)  \n",
    "\n",
    "\n",
    "arr = [1, 1, 2, 3, 3]\n",
    "res = removes(arr)\n",
    "print(res)  \n",
    "\n",
    "# your algorithm time complexity is:\n",
    "print(\"时间复杂度：O(n)\")"
   ]
  },
  {
   "cell_type": "markdown",
   "metadata": {},
   "source": [
    "## 问题 2  \n",
    "\n",
    "> 下面是一个经典的算法问题：\n",
    ">\n",
    "> - 给定包含n个整数的一个整数数组 `nums` 和一个整数目标值 `target`，请你在该数组中找出 **和为目标值** *`target`* 的那 **两个** 整数，并返回它们的**数组下标**。假设每种输入只会对应一个答案。但是，数组中同一个元素在答案里不能重复出现。你可以按任意顺序返回答案。\n",
    ">\n",
    "> 由于要多次查找数组中元素的位置，为了提高查询效率可以使用哈希表来存储数组中的数据，在哈希表中查询一个元素的复杂度为O(1)。 已知python中的字典是使用哈希表实现的，即使用`dict[key]`查询对应的value时间复杂度为O(1), python提供了查询字典是否包含某个key的功能：`key in dict`，时间复杂度也是O(1)\n",
    "\n",
    "请根据上面信息，设计一个时间复杂度为O(n) 的算法，解决上述算法问题\n",
    "\n",
    "e.g.   \n",
    "\n",
    "输入：nums=[2,7,11,15], target=9， 输出：[0，1]\n",
    "\n",
    "输入：nums=[3,2,4], target=6, 输出：[1,2]\n",
    "\n",
    "输入：nums=[3,3], target=6,  输出：[0,1]\n"
   ]
  },
  {
   "cell_type": "code",
   "execution_count": 1,
   "metadata": {},
   "outputs": [
    {
     "name": "stdout",
     "output_type": "stream",
     "text": [
      "[0, 1]\n",
      "时间复杂度：O(n)\n"
     ]
    }
   ],
   "source": [
    "# add your idea here\n",
    "# 需要找出数组中两个元素的和等于目标值 target。假设每种输入只有唯一答案，并且相同的元素不能重复使用。\n",
    "# 为了提高效率，我们可以利用哈希表来快速查找目标元素的补数\n",
    "# 检查哈希表中是否存在这个补数。如果存在，则说明找到了两个数，返回它们的索引。\n",
    "def two_sum(nums, target):\n",
    "    res = {}\n",
    "    for i, num in enumerate(nums):\n",
    "        complement = target - num\n",
    "        if complement in res:\n",
    "            return [res[complement], i]\n",
    "        res[num] = i\n",
    "    return None\n",
    "print(two_sum([3, 3], 6))          \n",
    "\n",
    "# your algorithm time complexity is: O(n)\n",
    "print(\"时间复杂度：O(n)\")"
   ]
  },
  {
   "cell_type": "markdown",
   "metadata": {},
   "source": [
    "## 问题 3:   \n",
    "\n",
    "> 栈是一种常用的数据结构，编译器中通常使用栈来实现表达式求值。\n",
    ">\n",
    "> 以表达式 $3+5 \\times 8-6$​ 为例。编译器使用两个栈来完成运算，即一个栈保持操作数，另一个栈保存运算符。\n",
    ">\n",
    "> 1. 从左向右遍历表达式，遇到数字就压入操作数栈；\n",
    ">\n",
    "> 2. 遇到运算符，就与运算符栈的栈顶元素进行比较。如果比运算符栈顶元素的优先级高，就将当前运算符压入栈；如果比运算符栈顶元素的优先级低或者相同，从运算符栈中取栈顶运算符，从操作数栈的栈顶取 2 个操作数，然后进行计算，再把计算完的结果压入操作数栈，继续比较。\n",
    ">\n",
    "> 下图是 $3+5 \\times 8-6$  这个表达式的计算过程：\n",
    "\n",
    "![figure](./fig/hw2q3.png)\n",
    "\n",
    "根据上述原理，请设计一个算法完成表达式的运算，当输入为表达式字符串，返回对应的计算结果。分析算法设计思路，计算时间复杂度，并基于python编程实现\n",
    "\n",
    "**note：**\n",
    "\n",
    "1. 假设输入的表达式只会出现加（“+”），减 “-”， 乘“*”，除 “/” 四个运算符, 表达式中只会出现正整数\n",
    "2. python中` str.isdigit()`函数可以判断字符串str是否为数字，\n",
    "\n",
    "\n",
    "\n",
    "e.g. :\n",
    "---\n",
    "\n",
    "1. 输入：“$3+5 * 8 -6$”   输出：37\n",
    "\n",
    "2. 输入：“$34+13*9 + 44-12/3$”  输出：191"
   ]
  },
  {
   "cell_type": "markdown",
   "metadata": {},
   "source": [
    "idea：\n",
    "我们可以使用两个栈来计算给定的数学表达式：一个栈用于保存操作数，另一个栈用于保存运算符。\n",
    "\n",
    "步骤\n",
    "遍历表达式：从左到右遍历整个表达式。\n",
    "\n",
    "当遇到数字时，将其压入操作数栈。\n",
    "\n",
    "当遇到运算符时，与运算符栈顶的运算符进行优先级比较。优先级规则：* 和 / 的优先级高于 + 和 -。\n",
    "\n",
    "如果当前运算符的优先级低于或等于栈顶运算符的优先级，我们就从运算符栈中弹出运算符，并从操作数栈中弹出两个操作数进行运算，结果再压入操作数栈。\n",
    "\n",
    "将当前运算符压入运算符栈。\n",
    "\n",
    "处理栈中的剩余运算符：遍历完成后，仍可能有剩余的运算符在运算符栈中，我们需要依次从运算符栈中弹出运算符，进行计算。\n",
    "\n",
    "处理运算符的优先级 :* 和 / 的优先级为 2。+ 和 - 的优先级为 1。"
   ]
  },
  {
   "cell_type": "code",
   "execution_count": 9,
   "metadata": {},
   "outputs": [
    {
     "name": "stdout",
     "output_type": "stream",
     "text": [
      "37\n",
      "191\n",
      "时间复杂度：O(n)\n"
     ]
    }
   ],
   "source": [
    "# add your idea here(大模型辅助)\n",
    "def calculate(expression):\n",
    "    precedence = {'+': 1, '-': 1, '*': 2, '/': 2}\n",
    "    \n",
    "    \n",
    "    num_stack = []  \n",
    "    op_stack = []   \n",
    "    \n",
    "    def apply_operator(op):\n",
    "        right = num_stack.pop()\n",
    "        left = num_stack.pop()\n",
    "        if op == '+':\n",
    "            num_stack.append(left + right)\n",
    "        elif op == '-':\n",
    "            num_stack.append(left - right)\n",
    "        elif op == '*':\n",
    "            num_stack.append(left * right)\n",
    "        elif op == '/':\n",
    "            num_stack.append(int(left / right))\n",
    "\n",
    "    \n",
    "    i = 0\n",
    "    while i < len(expression):\n",
    "        char = expression[i]\n",
    "        if char == ' ':\n",
    "            i += 1\n",
    "            continue\n",
    "        \n",
    "        if char.isdigit():\n",
    "            num = 0\n",
    "            while i < len(expression) and expression[i].isdigit():\n",
    "                num = num * 10 + int(expression[i])\n",
    "                i += 1\n",
    "            num_stack.append(num)\n",
    "            continue\n",
    "        \n",
    "        if char in precedence:\n",
    "            while (op_stack and precedence[op_stack[-1]] >= precedence[char]):\n",
    "                apply_operator(op_stack.pop())\n",
    "            op_stack.append(char)\n",
    "        \n",
    "        i += 1\n",
    "    \n",
    "    while op_stack:\n",
    "        apply_operator(op_stack.pop())\n",
    "    return num_stack[-1]\n",
    "\n",
    "\n",
    "print(calculate(\"3+5*8-6\"))  \n",
    "print(calculate(\"34+13*9+44-12/3\"))  \n",
    "\n",
    "# your algorithm time complexity is: \n",
    "print(\"时间复杂度：O(n)\")"
   ]
  },
  {
   "cell_type": "markdown",
   "metadata": {},
   "source": [
    "## 问题 4:  \n",
    "\n",
    "> 星球碰撞问题：现有n个星球，在同一条直线上运行，如数组A所示，元素的绝对值表示星球的质量，负数表示星球自右向左运动，正数表示星球自左向右运动，当两个星球相撞的时候，质量小的会消失，大的保持不变，**质量相同的两个星球碰撞后自右向左运动的星球消失，自左向右的星球保持不变**，假设所有星球的速度大小相同。\n",
    ">\n",
    "> $ A=[23,-8, 9, -3, -7, 9, -23, 22] $\n",
    "\n",
    "请设计一个算法模拟星球的运行情况，输出最终的星球存续情况（输出一个数组），分析算法设计思路，计算时间复杂度，并基于python编程实现。\n",
    "\n",
    "e.g.\n",
    "---\n",
    "1.  输入： A=[-3,-6,2,8, 5,-8,9,-2,1]， 输出：[-3, -6, 2, 8, 9, 1]\n",
    "\n",
    "2. 输入：A=[23,-8, 9, -3, -7, 9, -23, 22], 输出：[23, 22]\n",
    "\n"
   ]
  },
  {
   "cell_type": "code",
   "execution_count": 10,
   "metadata": {},
   "outputs": [
    {
     "name": "stdout",
     "output_type": "stream",
     "text": [
      "[-3, -6, 2, 8, 9, 1]\n",
      "[23, 22]\n",
      "时间复杂度：O(n)\n"
     ]
    }
   ],
   "source": [
    "# add your idea here\n",
    "def planet_collision(A):\n",
    "    stack = []\n",
    "    \n",
    "    for planet in A:\n",
    "        if planet > 0:\n",
    "            stack.append(planet)\n",
    "        else:\n",
    "            while stack and stack[-1] > 0:  \n",
    "                if stack[-1] < abs(planet):\n",
    "                    stack.pop()  \n",
    "                    continue\n",
    "                elif stack[-1] == abs(planet):\n",
    "                    break\n",
    "                else:\n",
    "                    break  \n",
    "            else:\n",
    "                stack.append(planet)  \n",
    "    return stack\n",
    "\n",
    "print(planet_collision([-3,-6,2,8, 5,-8,9,-2,1]))  \n",
    "print(planet_collision([23,-8, 9, -3, -7, 9, -23, 22]))\n",
    "\n",
    "# your algorithm time complexity is:\n",
    "print(\"时间复杂度：O(n)\")"
   ]
  },
  {
   "cell_type": "markdown",
   "metadata": {},
   "source": [
    "## 问题 5 \n",
    "\n",
    "> 给定一个无序数组nums=[9,-3,-10,0,9,7,33]，请建立一个二叉搜索树存储数组中的所有元素，之后删除二叉树中的元素“0”，再使用中序遍历输出二叉搜索树中的所有元素。\n",
    "\n",
    "使用python编程完成上述任务，并计算时间复杂度\n"
   ]
  },
  {
   "cell_type": "code",
   "execution_count": 12,
   "metadata": {},
   "outputs": [
    {
     "name": "stdout",
     "output_type": "stream",
     "text": [
      "中序遍历： [-10, -3, 7, 9, 9, 33]\n",
      "总体时间复杂度：O(nlogn)\n"
     ]
    }
   ],
   "source": [
    "# add your idea here（辅助完成）\n",
    "# 确保符合二叉搜索树属性，\n",
    "# 删除二叉搜索树中的一个元素时，我们需要考虑三种情况：\n",
    "# 如果该节点没有子节点，直接删除。\n",
    "# 如果该节点只有一个子节点，用其子节点替换该节点。\n",
    "# 如果该节点有两个子节点，找到该节点的右子树中的最小节点或左子树中的最大节点替代该节点，然后删除替代节点\n",
    "\n",
    "class TreeNode:\n",
    "    def __init__(self, val, left=None, right=None):\n",
    "        self.val = val\n",
    "        self.left = left\n",
    "        self.right = right\n",
    "\n",
    "class BST:\n",
    "    def __init__(self):\n",
    "        self.root = None\n",
    "\n",
    "    \n",
    "    def insert(self, val):\n",
    "        if not self.root:\n",
    "            self.root = TreeNode(val)\n",
    "        else:\n",
    "            self._insert_recursive(self.root, val)\n",
    "    \n",
    "    def _insert_recursive(self, node, val):\n",
    "        if val < node.val:\n",
    "            if node.left:\n",
    "                self._insert_recursive(node.left, val)\n",
    "            else:\n",
    "                node.left = TreeNode(val)\n",
    "        else:\n",
    "            if node.right:\n",
    "                self._insert_recursive(node.right, val)\n",
    "            else:\n",
    "                node.right = TreeNode(val)\n",
    "\n",
    "    \n",
    "    def delete(self, root, val):\n",
    "        if not root:\n",
    "            return root\n",
    "        \n",
    "        if val < root.val:\n",
    "            root.left = self.delete(root.left, val)\n",
    "        elif val > root.val:\n",
    "            root.right = self.delete(root.right, val)\n",
    "        else:\n",
    "            if not root.left:\n",
    "                return root.right\n",
    "            elif not root.right:\n",
    "                return root.left\n",
    "            else:\n",
    "                min_node = self.find_min(root.right)\n",
    "                root.val = min_node.val\n",
    "                root.right = self.delete(root.right, min_node.val)\n",
    "        \n",
    "        return root\n",
    "    \n",
    "    def find_min(self, node):\n",
    "        while node.left:\n",
    "            node = node.left\n",
    "        return node\n",
    "\n",
    "    # 中序遍历\n",
    "    def inorder(self):\n",
    "        result = []\n",
    "        self.inorder_recursive(self.root, result)\n",
    "        return result\n",
    "\n",
    "    def inorder_recursive(self, node, result):\n",
    "        if node:\n",
    "            self.inorder_recursive(node.left, result)\n",
    "            result.append(node.val)\n",
    "            self.inorder_recursive(node.right, result)\n",
    "\n",
    "\n",
    "nums = [9, -3, -10, 0, 9, 7, 33]\n",
    "bst = BST()\n",
    "for num in nums:\n",
    "    bst.insert(num)\n",
    "\n",
    "bst.root = bst.delete(bst.root, 0)\n",
    "inorder_result = bst.inorder()\n",
    "print(\"中序遍历：\",inorder_result)\n",
    "\n",
    "# your algorithm time complexity is:\n",
    "print(\"总体时间复杂度：O(nlogn)\")"
   ]
  },
  {
   "cell_type": "markdown",
   "metadata": {},
   "source": [
    "## 问题 6  \n",
    "\n",
    "> 给定一个包含大写字母和小写字母的字符串 s ，返回 字符串包含的 **最长的回文子串的长度** 。请注意 区分大小写 。比如 \"Aa\" 不能当做一个回文字符串。\n",
    ">\n",
    "\n",
    "请设计一个算法解决上述问题，只需要输出最长回文子串的长度，分析算法设计思路，计算时间复杂度，并基于python编程实现\n",
    "\n",
    "e.g. 输入： s=\"adccaccd\"，  输出：7。 最长回文子串为：\"dccaccd\", 长度为7\n"
   ]
  },
  {
   "cell_type": "markdown",
   "metadata": {},
   "source": [
    "idea：\n",
    "要解决这个问题，我们可以采用 中心扩展法 来寻找回文子串。回文子串的特点是其左右两侧字符相同。因此，我们可以从字符串中的每一个字符出发，尝试向两边扩展，以找到最大回文子串。\n",
    "\n",
    "中心扩展法的思路：\n",
    "回文中心：一个回文串有一个中心，可以是一个字符（奇数长度的回文串），也可以是两个字符（偶数长度的回文串）。因此，对于每一个位置 i，我们可以考虑它作为回文串的中心。\n",
    "\n",
    "扩展：从中心向两边扩展，直到两边的字符不相等或者越界。\n",
    "\n",
    "每个位置作为中心：我们将每个字符（以及字符间的空隙）都作为中心，进行扩展，计算每个中心扩展出的最大回文长度。\n",
    "\n",
    "更新最大长度：每次扩展时，更新当前找到的最大回文子串的长度。"
   ]
  },
  {
   "cell_type": "code",
   "execution_count": 14,
   "metadata": {},
   "outputs": [
    {
     "name": "stdout",
     "output_type": "stream",
     "text": [
      "最长回文串长度： 7\n",
      "总体时间复杂度：O(n^2)\n"
     ]
    }
   ],
   "source": [
    "def longest(s):\n",
    "    def find_center(left, right):\n",
    "        while left >= 0 and right < len(s) and s[left] == s[right]:\n",
    "            left -= 1\n",
    "            right += 1\n",
    "        \n",
    "        return right - left - 1\n",
    "    \n",
    "    if not s:\n",
    "        return 0\n",
    "    \n",
    "    max_len = 1  \n",
    "    \n",
    "    for i in range(len(s)):\n",
    "        len1 = find_center(i, i)  \n",
    "        len2 = find_center(i, i + 1)\n",
    "        max_len = max(max_len, len1, len2)\n",
    "    return max_len\n",
    "\n",
    "\n",
    "print(\"最长回文串长度：\",longest(\"adccaccd\")) \n",
    "\n",
    "# your algorithm time complexity is:\n",
    "print(\"时间复杂度：O(n^2)\")"
   ]
  },
  {
   "cell_type": "markdown",
   "metadata": {},
   "source": [
    "## 问题 7 \n",
    "\n",
    "> 沿一条长河流分散着n座房子。你可以把这条河想象成一条轴，房子是由它们在这条轴上的坐标按顺序排列的。你的公司想在河边的特定地点设置手机基站，这样每户人家都在距离基站4公里的范围内。输入可以看作为一个升序数组，数组元素的取值为大于等于0的正整数，你需要输出最小基站的数目，基站的位置。\n",
    "\n",
    "1. 给出一个时间复杂度为$O(n$) 的算法，使所使用的基站数量最小化，分析算法设计思路，使用python编程实现\n",
    "2. 证明1.中算法产生了最优解决方案。\n",
    "\n",
    "e.g. \n",
    "\n",
    "输入： [1, 5, 12, 33, 34,35]  输出：基站数目为3， 基站位置为[1，12，33]\n",
    "\n"
   ]
  },
  {
   "cell_type": "markdown",
   "metadata": {},
   "source": [
    "idea：\n",
    "每个基站的覆盖范围是一个4公里的范围，即每个基站可以覆盖的房子范围为基站位置前后各4公里。\n",
    "\n",
    "核心思路是：我们从房子的左侧开始遍历，尽可能地将一个基站放在一个可以覆盖到尽可能多房子的地方。\n",
    "\n",
    "具体步骤：\n",
    "排序房子位置：首先，保证房子的数组是升序排列的。如果输入数组已经是升序的，可以跳过此步。\n",
    "\n",
    "选择基站位置：\n",
    "\n",
    "从第一个房子开始，选择一个基站来覆盖这个房子。\n",
    "\n",
    "首先将基站放在第一个房子的位置的最大覆盖范围内，即选择一个基站能覆盖到的最远房子作为基站位置。\n",
    "\n",
    "然后，继续从下一个未覆盖的房子出发，选择一个新的基站，直到所有房子都被覆盖。\n",
    "\n",
    "覆盖范围：每个基站覆盖的范围是基站位置±4公里。\n",
    "\n",
    "每次尽可能选择最远的位置来设置基站，保证基站数量最小。"
   ]
  },
  {
   "cell_type": "code",
   "execution_count": 2,
   "metadata": {},
   "outputs": [
    {
     "name": "stdout",
     "output_type": "stream",
     "text": [
      "基站数量: 3\n",
      "基站位置: [5, 16, 37]\n",
      "时间复杂度：O(n)\n"
     ]
    }
   ],
   "source": [
    "# add your idea here\n",
    "def towers(houses):\n",
    "    if not houses:\n",
    "        return 0, []\n",
    "    \n",
    "    count = 0\n",
    "    stations = []\n",
    "    i = 0\n",
    "    n = len(houses)\n",
    "    \n",
    "    while i < n:\n",
    "        \n",
    "        station = houses[i] + 4\n",
    "        count += 1\n",
    "        stations.append(station)\n",
    "        j = i + 1\n",
    "        while j < n and houses[j] <= houses[i] + 8:\n",
    "            j += 1\n",
    "        i = j\n",
    "    \n",
    "    return count, stations\n",
    "\n",
    "\n",
    "houses = [1, 5, 12, 33, 34,35]  \n",
    "count, stations = towers(houses)\n",
    "print(f\"基站数量: {count}\")\n",
    "print(f\"基站位置: {stations}\")\n",
    "\n",
    "# your algorithm time complexity is:\n",
    "print(\"时间复杂度：O(n)\")"
   ]
  },
  {
   "cell_type": "markdown",
   "metadata": {},
   "source": [
    "## 问题 8  \n",
    "\n",
    "> 给定由n个正整数组成的一个集合$S = \\{a_1, a_2，···，a_n\\}$和一个正整数W，设计一个算法确定是否存在S的一个子集 $K \\subseteq S$, 使K中所有数之和为 $W$, 如果存在返回“True”，否则返回“False”\n",
    "\n",
    "请设计一个时间复杂度为$O(nW)$动态规划算法，解决上述问题，分析算法的设计思路，并且基于python编程实现（不需要输出子集）。\n",
    "\n",
    "e.g. \n",
    "\n",
    "输入：S = {1,4,7,3,5}， W = 11，输出：True。   因为K可以是{4,7}。\n",
    "\n"
   ]
  },
  {
   "cell_type": "markdown",
   "metadata": {},
   "source": [
    "idea：\n",
    "用dp[i][j]表示前i个元素中是否存在一个子集，其和为j。dp[i][j] 的值为 True 表示存在这样的子集，False 表示不存在\n"
   ]
  },
  {
   "cell_type": "code",
   "execution_count": 18,
   "metadata": {},
   "outputs": [
    {
     "name": "stdout",
     "output_type": "stream",
     "text": [
      "True\n",
      "时间复杂度：O(nW)\n"
     ]
    }
   ],
   "source": [
    "def subset_sum(S, W):\n",
    "    n = len(S)\n",
    "    dp = [[False] * (W + 1) for _ in range(n + 1)]\n",
    "    dp[0][0] = True\n",
    "    \n",
    "    for i in range(1, n + 1):\n",
    "        for j in range(W + 1):\n",
    "            dp[i][j] = dp[i - 1][j]\n",
    "            if j >= S[i - 1]:\n",
    "                dp[i][j] = dp[i][j] or dp[i - 1][j - S[i - 1]]\n",
    "    return dp[n][W]\n",
    "\n",
    "\n",
    "S = [1, 4, 7, 3, 5]\n",
    "W = 11\n",
    "result = subset_sum(S, W)\n",
    "print(result)\n",
    "\n",
    "# your algorithm time complexity is: \n",
    "print(\"时间复杂度：O(nW)\")"
   ]
  },
  {
   "cell_type": "markdown",
   "metadata": {},
   "source": [
    "\n",
    "\n",
    "## 问题 9 \n",
    "\n",
    "> 给定一个n个物品的集合。物体的重量为$w_1, w_2，…、w_n$，物品的价值分别是$v_1、v_2、…v_n$。给你**两个**重量为 $c$ 的背包。如果你带了一个东西，它可以放在一个背包里，也可以放在另一个背包里，但不能同时放在两个背包里。所有权重和价值都是正整数。\n",
    "\n",
    "1. 设计一个时间复杂度为 $O(nc^2)$ 的动态规划算法，确定可以放入两个背包的物体的最大价值。分析算法设计思路，并基于python编程实现\n",
    "2. \\* 修改1中的算法，输出每个背包的内容（物品对应下标）。\n",
    "\n",
    "e.g.: \n",
    "\n",
    "输入 V=[1,3,2,5,8,7], W=[1,3,2,5,8,7], c=7, 输出：最大价值=14，背包装的物品为：[6] [4，3] （同一个背包中物品装入顺序对结果无影响）  \n"
   ]
  },
  {
   "cell_type": "markdown",
   "metadata": {},
   "source": [
    "idea：  \n",
    "dp[j][k] 表示第一个背包重量 j，第二个背包重量 k 的最大价值\n",
    "对于物品i有三种状态：  \n",
    "    不选第 i 个物品  \n",
    "    选第 i 个物品放入第一个背包  \n",
    "    选第 i 个物品放入第二个背包\n",
    "            "
   ]
  },
  {
   "cell_type": "code",
   "execution_count": 12,
   "metadata": {},
   "outputs": [
    {
     "name": "stdout",
     "output_type": "stream",
     "text": [
      "最大价值: 14\n"
     ]
    }
   ],
   "source": [
    "# add your idea here（辅助完成）\n",
    "def double_knapsack(V, W, c):\n",
    "    n = len(V)\n",
    "    dp = [[0] * (c + 1) for _ in range(c + 1)]\n",
    "    \n",
    "    \n",
    "    for i in range(n):\n",
    "        new_dp = [[0] * (c + 1) for _ in range(c + 1)]\n",
    "        for j in range(c + 1):\n",
    "            for k in range(c + 1):\n",
    "                new_dp[j][k] = dp[j][k]\n",
    "                if j >= W[i]:\n",
    "                    new_dp[j][k] = max(new_dp[j][k], dp[j - W[i]][k] + V[i])\n",
    "                if k >= W[i]:\n",
    "                    new_dp[j][k] = max(new_dp[j][k], dp[j][k - W[i]] + V[i])\n",
    "        dp = new_dp\n",
    "    \n",
    "    max_value = 0\n",
    "    for j in range(c + 1):\n",
    "        for k in range(c + 1):\n",
    "            max_value = max(max_value, dp[j][k])\n",
    "    \n",
    "    return max_value\n",
    "\n",
    "\n",
    "V = [1, 3, 2, 5, 8, 7]\n",
    "W = [1, 3, 2, 5, 8, 7]\n",
    "c = 7\n",
    "max_value= double_knapsack(V, W, c)\n",
    "print(f\"最大价值: {max_value}\")\n",
    "\n",
    "# your algorithm time complexity is: O(nc^2)"
   ]
  },
  {
   "cell_type": "markdown",
   "metadata": {},
   "source": [
    "## 问题 10 \n",
    "\n",
    "> 给定两个字符串 $x[1..n]$ 和 $y[1..m]$，我们想通过以下操作将 $x$ 变换为 $y$ :\n",
    ">\n",
    "> **插入**：在 $x$ 中插入一个字符(在任何位置)；**删除**：从 $x$ 中删除一个字符(在任何位置)； **替换**：用另一个字符替换 $x$ 中的一个字符。\n",
    ">\n",
    "> 例如: $x = abcd$, $y = bcfe$，\n",
    ">\n",
    "> - 将 $x$ 转换为 $y$ 的一种可能方法是：1. 删除 $x$ 开头的 $a$, $x$变成 $bcd$； 2. 将 $x$ 中的字符 $d$ 替换为字符 $f$。$x$ 变成 $bcf$； 3. 在 $x$ 的末尾插入字符 $e$。$x$ 变成 $bcfe$。\n",
    ">\n",
    "> - 另一种可能的方法：1. 删除 $x$ 开头的 $a$,  $x$ 变成 $bcd$； 2. 在 $x$ 中字符 $d$ 之前插入字符 $f$。$x$ 变成 $bcfd$。3. 将 $x$ 中的字符 $d$ 替换为字符 $e$。$x$ 变成 $bcfe$。\n",
    "\n",
    "设计一个时间复杂度为 $O(mn)$ 的算法，返回将 $x$ 转换为 $y$ 所需的最少操作次数。分析算法设计思路，并基于python编程实现。\n"
   ]
  },
  {
   "cell_type": "markdown",
   "metadata": {},
   "source": [
    "idea：  \n",
    "dp[i][j] 表示 x[1:i] 到 y[1:j] 的最小编辑距离  \n",
    "若 x[i] == y[j]，则 dp[i][j] = dp[i-1][j-1]，否则：   \n",
    "插入：dp[i][j-1] + 1  \n",
    "删除：dp[i-1][j] + 1  \n",
    "替换：dp[i-1][j-1] + 1  "
   ]
  },
  {
   "cell_type": "code",
   "execution_count": 19,
   "metadata": {},
   "outputs": [
    {
     "name": "stdout",
     "output_type": "stream",
     "text": [
      "最少操作次数为： 3\n"
     ]
    }
   ],
   "source": [
    "# add your idea here（辅助完成）\n",
    "def edit_distance(x, yr):\n",
    "    n, m = len(x), len(y)\n",
    "    \n",
    "    dp = [[0] * (m + 1) for _ in range(n + 1)]\n",
    "    \n",
    "    for i in range(n + 1):\n",
    "        dp[i][0] = i  \n",
    "    for j in range(m + 1):\n",
    "        dp[0][j] = j  \n",
    "\n",
    "\n",
    "    for i in range(1, n + 1):\n",
    "        for j in range(1, m + 1):\n",
    "            if x[i - 1] == y[j - 1]:\n",
    "                dp[i][j] = dp[i - 1][j - 1]\n",
    "            else:\n",
    "                insert_op = dp[i][j - 1] + 1\n",
    "                delete_op = dp[i - 1][j] + 1\n",
    "                replace_op = dp[i - 1][j - 1] + 1\n",
    "                dp[i][j] = min(insert_op, delete_op, replace_op)\n",
    "\n",
    "    return dp[n][m]\n",
    "\n",
    "x = \"abcd\"\n",
    "y = \"bcfe\"\n",
    "\n",
    "\n",
    "print(\"最少操作次数为：\", edit_distance(x, y))\n",
    "\n",
    "# your algorithm time complexity is: O(mn)"
   ]
  },
  {
   "cell_type": "code",
   "execution_count": null,
   "metadata": {},
   "outputs": [],
   "source": []
  }
 ],
 "metadata": {
  "kernelspec": {
   "display_name": "Python 3",
   "language": "python",
   "name": "python3"
  },
  "language_info": {
   "codemirror_mode": {
    "name": "ipython",
    "version": 3
   },
   "file_extension": ".py",
   "mimetype": "text/x-python",
   "name": "python",
   "nbconvert_exporter": "python",
   "pygments_lexer": "ipython3",
   "version": "3.8.3"
  }
 },
 "nbformat": 4,
 "nbformat_minor": 2
}
